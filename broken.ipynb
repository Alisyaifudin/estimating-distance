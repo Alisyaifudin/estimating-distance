{
 "cells": [
  {
   "cell_type": "code",
   "execution_count": 1,
   "metadata": {},
   "outputs": [],
   "source": [
    "import numpy as np\n",
    "from matplotlib import pyplot as plt\n",
    "import scipy.integrate as integrate\n",
    "from scipy.stats import uniform\n",
    "from scipy.stats import norm\n",
    "from scipy.stats.sampling import NumericalInversePolynomial\n",
    "import astropy.units as u\n",
    "from astropy.coordinates import SkyCoord\n",
    "from astroquery.gaia import Gaia"
   ]
  },
  {
   "cell_type": "code",
   "execution_count": 2,
   "metadata": {},
   "outputs": [],
   "source": [
    "from scipy.stats import rv_continuous\n",
    "\n",
    "class ConstantDensity_gen(rv_continuous):\n",
    "  r\"\"\"A constant density continuous random variable.\n",
    "\n",
    "  In the standard form, the distribution is proportional to r^2 on ``[0, 1]``. Using\n",
    "  the parameters ``loc`` and ``scale``, one obtains the distribution\n",
    "  on ``[loc, loc + scale]``.\n",
    "\n",
    "  %(before_notes)s\n",
    "\n",
    "  %(example)s\n",
    "\n",
    "  \"\"\"\n",
    "  def _pdf(self, x):\n",
    "      return 1.0*(x == x)\n",
    "\n",
    "  def _cdf(self, x):\n",
    "      return x\n",
    "\n",
    "  def _ppf(self, q):\n",
    "      return q\n",
    "\n",
    "ConstantDensity = ConstantDensity_gen(a=0.0, b=1.0, name='uniform')\n"
   ]
  },
  {
   "cell_type": "code",
   "execution_count": null,
   "metadata": {},
   "outputs": [],
   "source": [
    "ConstantDensity.pdf()"
   ]
  }
 ],
 "metadata": {
  "interpreter": {
   "hash": "db1af627290d5dcbdc95b5e3d9ee62b52be815e826fdffb49dc29e1c3b246c30"
  },
  "kernelspec": {
   "display_name": "Python 3.9.10 ('base')",
   "language": "python",
   "name": "python3"
  },
  "language_info": {
   "codemirror_mode": {
    "name": "ipython",
    "version": 3
   },
   "file_extension": ".py",
   "mimetype": "text/x-python",
   "name": "python",
   "nbconvert_exporter": "python",
   "pygments_lexer": "ipython3",
   "version": "3.10.2"
  },
  "orig_nbformat": 4
 },
 "nbformat": 4,
 "nbformat_minor": 2
}
